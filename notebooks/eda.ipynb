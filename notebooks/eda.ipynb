{
 "cells": [
  {
   "cell_type": "code",
   "execution_count": null,
   "metadata": {
    "vscode": {
     "languageId": "plaintext"
    }
   },
   "outputs": [],
   "source": [
    "import pandas as pd\n",
    "import matplotlib.pyplot as plt\n",
    "import seaborn as sns"
   ]
  },
  {
   "cell_type": "code",
   "execution_count": null,
   "metadata": {
    "vscode": {
     "languageId": "plaintext"
    }
   },
   "outputs": [],
   "source": [
    "# Load data\n",
    "raw_data_path = \"../data/raw/data.xlsx\"\n",
    "definitions_path = \"../data/raw/Xente_Variable_Definitions.xlsx\"\n",
    "data = pd.read_excel(raw_data_path)\n",
    "variable_definitions = pd.read_excel(definitions_path)"
   ]
  },
  {
   "cell_type": "code",
   "execution_count": null,
   "metadata": {
    "vscode": {
     "languageId": "plaintext"
    }
   },
   "outputs": [],
   "source": [
    "# Display dataset overview\n",
    "print(\"Dataset Overview:\\n\")\n",
    "print(data.info())\n",
    "print(\"\\nFirst Few Rows of the Dataset:\\n\")\n",
    "print(data.head())\n"
   ]
  },
  {
   "cell_type": "code",
   "execution_count": null,
   "metadata": {
    "vscode": {
     "languageId": "plaintext"
    }
   },
   "outputs": [],
   "source": [
    "# Basic summary statistics\n",
    "print(\"\\nSummary Statistics:\\n\")\n",
    "print(data.describe(include='all'))\n",
    "\n",
    "# Visualize missing values\n",
    "plt.figure(figsize=(10, 6))\n",
    "sns.heatmap(data.isnull(), cbar=False, cmap=\"viridis\")\n",
    "plt.title(\"Missing Values Heatmap\")\n",
    "plt.show()\n"
   ]
  },
  {
   "cell_type": "code",
   "execution_count": null,
   "metadata": {
    "vscode": {
     "languageId": "plaintext"
    }
   },
   "outputs": [],
   "source": [
    "# Distribution of numerical features\n",
    "numerical_features = data.select_dtypes(include=['int64', 'float64']).columns\n",
    "\n",
    "for col in numerical_features:\n",
    "    plt.figure(figsize=(8, 4))\n",
    "    sns.histplot(data[col], kde=True, bins=30)\n",
    "    plt.title(f\"Distribution of {col}\")\n",
    "    plt.xlabel(col)\n",
    "    plt.ylabel(\"Frequency\")\n",
    "    plt.show()"
   ]
  },
  {
   "cell_type": "code",
   "execution_count": null,
   "metadata": {
    "vscode": {
     "languageId": "plaintext"
    }
   },
   "outputs": [],
   "source": [
    "# Categorical feature distributions\n",
    "categorical_features = data.select_dtypes(include=['object']).columns\n",
    "\n",
    "for col in categorical_features:\n",
    "    plt.figure(figsize=(10, 5))\n",
    "    sns.countplot(y=data[col], order=data[col].value_counts().index)\n",
    "    plt.title(f\"Distribution of {col}\")\n",
    "    plt.xlabel(\"Count\")\n",
    "    plt.ylabel(col)\n",
    "    plt.show()\n",
    "\n",
    "# Correlation analysis\n",
    "correlation_matrix = data[numerical_features].corr()\n",
    "plt.figure(figsize=(12, 8))\n",
    "sns.heatmap(correlation_matrix, annot=True, cmap=\"coolwarm\", fmt=\".2f\")\n",
    "plt.title(\"Correlation Matrix\")\n",
    "plt.show()\n",
    "\n",
    "# Save the cleaned data for further processing\n",
    "data_cleaned_path = \"../data/processed/cleaned_data.csv\"\n",
    "data.to_csv(data_cleaned_path, index=False)\n",
    "\n",
    "print(f\"Cleaned data saved to {data_cleaned_path}\")\n"
   ]
  }
 ],
 "metadata": {
  "language_info": {
   "name": "python"
  }
 },
 "nbformat": 4,
 "nbformat_minor": 2
}
